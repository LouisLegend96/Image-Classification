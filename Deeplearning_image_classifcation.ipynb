{
  "nbformat": 4,
  "nbformat_minor": 0,
  "metadata": {
    "colab": {
      "provenance": [],
      "gpuType": "T4"
    },
    "kernelspec": {
      "name": "python3",
      "display_name": "Python 3"
    },
    "language_info": {
      "name": "python"
    },
    "accelerator": "GPU"
  },
  "cells": [
    {
      "cell_type": "code",
      "execution_count": 2,
      "metadata": {
        "id": "tokg4ghzuPZT"
      },
      "outputs": [],
      "source": [
        "import numpy as np\n",
        "import matplotlib.pyplot as plt\n",
        "from sklearn.model_selection import train_test_split\n",
        "from tensorflow.keras.layers import *\n",
        "from tensorflow.keras.models import Sequential,Model\n",
        "from tensorflow.keras.preprocessing import  image\n",
        "from tensorflow.keras.preprocessing.image import ImageDataGenerator,load_img\n",
        "import os,warnings, random,shutil\n",
        "warnings.filterwarnings('ignore')\n",
        "import codecs\n",
        "codecs.register_error(\"strict\",codecs.ignore_errors)\n",
        "from tensorflow.keras.applications import ResNet50,EfficientNetB3\n",
        "from tensorflow.keras.applications.resnet50 import preprocess_input\n",
        "from tensorflow.keras.optimizers import SGD\n",
        "from tensorflow.keras.callbacks import EarlyStopping,ModelCheckpoint"
      ]
    },
    {
      "cell_type": "code",
      "source": [
        "from google.colab import drive\n",
        "drive.mount('/content/drive')"
      ],
      "metadata": {
        "id": "5zO6Lf6BwD2e"
      },
      "execution_count": null,
      "outputs": []
    },
    {
      "cell_type": "markdown",
      "source": [
        "importing packages needed for image classifcation"
      ],
      "metadata": {
        "id": "G1nc09LdulFo"
      }
    },
    {
      "cell_type": "markdown",
      "source": [
        "This project aims to leverage deep learning for automatic garbage classification, sorting waste into ten distinct categories: **Metal, Glass, Biological Waste, Paper, Battery Waste, General Trash, Cardboard, Shoes, Clothes, and Plastic**. The objective is to develop a reliable image classification model capable of identifying waste items based on their visual characteristics. This system can enhance waste management efficiency and encourage more effective recycling practices."
      ],
      "metadata": {
        "id": "rJ4ooGufvBm4"
      }
    },
    {
      "cell_type": "markdown",
      "source": [
        "1. Importing Required Libraries  \n",
        "2. Dataset Loading  \n",
        "3. Image Visualization  \n",
        "4. Preprocessing Images  \n",
        "5. Model Development  \n",
        "   - **EfficientNetB3**  \n",
        "   - **5.1 EfficientNetB3: Compilation & Training**  \n",
        "6. ResNet50 Model  \n",
        "   - **6.1 ResNet50: Compilation & Training**  \n",
        "7. Convolutional Neural Network (CNN)  \n",
        "   - **7.1 CNN: Compilation & Training**  \n",
        "8. Model Performance Comparison (Accuracy & Loss)  \n",
        "9. Making Predictions  \n",
        "10. Predicting the First Class  \n",
        "11. Conclusion & Acknowledgment"
      ],
      "metadata": {
        "id": "aTy08QgfvVpN"
      }
    }
  ]
}